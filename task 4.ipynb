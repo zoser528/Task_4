{
 "cells": [
  {
   "cell_type": "code",
   "execution_count": 1,
   "id": "16564405",
   "metadata": {},
   "outputs": [],
   "source": [
    "import numpy as np\n",
    "import pandas as pd\n",
    "import matplotlib.pyplot as plt"
   ]
  },
  {
   "cell_type": "code",
   "execution_count": 7,
   "id": "a854e4e2",
   "metadata": {},
   "outputs": [
    {
     "name": "stdout",
     "output_type": "stream",
     "text": [
      "Task 4\n"
     ]
    }
   ],
   "source": [
    "print(\"Task 4\")"
   ]
  },
  {
   "cell_type": "markdown",
   "id": "05eadbd0",
   "metadata": {},
   "source": [
    "# read and  named columns 1 to 13 and last column name it (Target) "
   ]
  },
  {
   "cell_type": "code",
   "execution_count": 2,
   "id": "4f675f41",
   "metadata": {},
   "outputs": [],
   "source": [
    "url = r\"D:\\machine learning\\task 4\\heart cancer.txt\"\n"
   ]
  },
  {
   "cell_type": "code",
   "execution_count": 3,
   "id": "f62a9a6d",
   "metadata": {},
   "outputs": [],
   "source": [
    "col = []\n",
    "for i in range (0,14):\n",
    "    if (i==13):\n",
    "        col.append(\"Target\")\n",
    "    else:\n",
    "        col.append(str(i))\n",
    "data = pd.read_csv(url, header=None, names=col)\n"
   ]
  },
  {
   "cell_type": "markdown",
   "id": "0a31e271",
   "metadata": {},
   "source": [
    "# Q3 ) print the first 20 rows and print description "
   ]
  },
  {
   "cell_type": "code",
   "execution_count": 4,
   "id": "9c61b695",
   "metadata": {},
   "outputs": [
    {
     "name": "stdout",
     "output_type": "stream",
     "text": [
      "data = \n",
      "      0  1  2    3    4  5  6    7  8    9  10  11  12  Target\n",
      "0   63  1  3  145  233  1  0  150  0  2.3   0   0   1       1\n",
      "1   37  1  2  130  250  0  1  187  0  3.5   0   0   2       1\n",
      "2   41  0  1  130  204  0  0  172  0  1.4   2   0   2       1\n",
      "3   56  1  1  120  236  0  1  178  0  0.8   2   0   2       1\n",
      "4   57  0  0  120  354  0  1  163  1  0.6   2   0   2       1\n",
      "5   57  1  0  140  192  0  1  148  0  0.4   1   0   1       1\n",
      "6   56  0  1  140  294  0  0  153  0  1.3   1   0   2       1\n",
      "7   44  1  1  120  263  0  1  173  0  0.0   2   0   3       1\n",
      "8   52  1  2  172  199  1  1  162  0  0.5   2   0   3       1\n",
      "9   57  1  2  150  168  0  1  174  0  1.6   2   0   2       1\n",
      "10  54  1  0  140  239  0  1  160  0  1.2   2   0   2       1\n",
      "11  48  0  2  130  275  0  1  139  0  0.2   2   0   2       1\n",
      "12  49  1  1  130  266  0  1  171  0  0.6   2   0   2       1\n",
      "13  64  1  3  110  211  0  0  144  1  1.8   1   0   2       1\n",
      "14  58  0  3  150  283  1  0  162  0  1.0   2   0   2       1\n",
      "15  50  0  2  120  219  0  1  158  0  1.6   1   0   2       1\n",
      "16  58  0  2  120  340  0  1  172  0  0.0   2   0   2       1\n",
      "17  66  0  3  150  226  0  1  114  0  2.6   0   0   2       1\n",
      "18  43  1  0  150  247  0  1  171  0  1.5   2   0   2       1\n",
      "19  69  0  3  140  239  0  1  151  0  1.8   2   2   2       1\n",
      "data of describtion = \n",
      "                 0           1           2           3           4           5  \\\n",
      "count  303.000000  303.000000  303.000000  303.000000  303.000000  303.000000   \n",
      "mean    54.366337    0.683168    0.966997  131.623762  246.264026    0.148515   \n",
      "std      9.082101    0.466011    1.032052   17.538143   51.830751    0.356198   \n",
      "min     29.000000    0.000000    0.000000   94.000000  126.000000    0.000000   \n",
      "25%     47.500000    0.000000    0.000000  120.000000  211.000000    0.000000   \n",
      "50%     55.000000    1.000000    1.000000  130.000000  240.000000    0.000000   \n",
      "75%     61.000000    1.000000    2.000000  140.000000  274.500000    0.000000   \n",
      "max     77.000000    1.000000    3.000000  200.000000  564.000000    1.000000   \n",
      "\n",
      "                6           7           8           9          10          11  \\\n",
      "count  303.000000  303.000000  303.000000  303.000000  303.000000  303.000000   \n",
      "mean     0.528053  149.646865    0.326733    1.039604    1.399340    0.729373   \n",
      "std      0.525860   22.905161    0.469794    1.161075    0.616226    1.022606   \n",
      "min      0.000000   71.000000    0.000000    0.000000    0.000000    0.000000   \n",
      "25%      0.000000  133.500000    0.000000    0.000000    1.000000    0.000000   \n",
      "50%      1.000000  153.000000    0.000000    0.800000    1.000000    0.000000   \n",
      "75%      1.000000  166.000000    1.000000    1.600000    2.000000    1.000000   \n",
      "max      2.000000  202.000000    1.000000    6.200000    2.000000    4.000000   \n",
      "\n",
      "               12      Target  \n",
      "count  303.000000  303.000000  \n",
      "mean     2.313531    0.544554  \n",
      "std      0.612277    0.498835  \n",
      "min      0.000000    0.000000  \n",
      "25%      2.000000    0.000000  \n",
      "50%      2.000000    1.000000  \n",
      "75%      3.000000    1.000000  \n",
      "max      3.000000    1.000000  \n"
     ]
    }
   ],
   "source": [
    "print('data = \\n', data.head(20))\n",
    "print('data of describtion = \\n', data.describe())"
   ]
  },
  {
   "cell_type": "markdown",
   "id": "5ce79d29",
   "metadata": {},
   "source": [
    "# Q 4 ) rearrange data named (cancer, not cancer)"
   ]
  },
  {
   "cell_type": "code",
   "execution_count": 5,
   "id": "4f8d13b7",
   "metadata": {},
   "outputs": [
    {
     "name": "stdout",
     "output_type": "stream",
     "text": [
      "##################################################################################\n",
      "Cancer data\n",
      "      0  1  2    3    4  5  6    7  8    9  10  11  12  Target\n",
      "0    63  1  3  145  233  1  0  150  0  2.3   0   0   1       1\n",
      "1    37  1  2  130  250  0  1  187  0  3.5   0   0   2       1\n",
      "2    41  0  1  130  204  0  0  172  0  1.4   2   0   2       1\n",
      "3    56  1  1  120  236  0  1  178  0  0.8   2   0   2       1\n",
      "4    57  0  0  120  354  0  1  163  1  0.6   2   0   2       1\n",
      "..   .. .. ..  ...  ... .. ..  ... ..  ...  ..  ..  ..     ...\n",
      "160  56  1  1  120  240  0  1  169  0  0.0   0   0   2       1\n",
      "161  55  0  1  132  342  0  1  166  0  1.2   2   0   2       1\n",
      "162  41  1  1  120  157  0  1  182  0  0.0   2   0   2       1\n",
      "163  38  1  2  138  175  0  1  173  0  0.0   2   4   2       1\n",
      "164  38  1  2  138  175  0  1  173  0  0.0   2   4   2       1\n",
      "\n",
      "[165 rows x 14 columns]\n",
      "##################################################################################\n",
      "Not Cancere data\n",
      "      0  1  2    3    4  5  6    7  8    9  10  11  12  Target\n",
      "165  67  1  0  160  286  0  0  108  1  1.5   1   3   2       0\n",
      "166  67  1  0  120  229  0  0  129  1  2.6   1   2   3       0\n",
      "167  62  0  0  140  268  0  0  160  0  3.6   0   2   2       0\n",
      "168  63  1  0  130  254  0  0  147  0  1.4   1   1   3       0\n",
      "169  53  1  0  140  203  1  0  155  1  3.1   0   0   3       0\n",
      "..   .. .. ..  ...  ... .. ..  ... ..  ...  ..  ..  ..     ...\n",
      "298  57  0  0  140  241  0  1  123  1  0.2   1   0   3       0\n",
      "299  45  1  3  110  264  0  1  132  0  1.2   1   0   3       0\n",
      "300  68  1  0  144  193  1  1  141  0  3.4   1   2   3       0\n",
      "301  57  1  0  130  131  0  1  115  1  1.2   1   1   3       0\n",
      "302  57  0  1  130  236  0  0  174  0  0.0   1   1   2       0\n",
      "\n",
      "[138 rows x 14 columns]\n",
      "##################################################################################\n"
     ]
    }
   ],
   "source": [
    "Cancer = data[data[\"Target\"].isin([1])]\n",
    "notCancer = data[data[\"Target\"].isin([0])]\n",
    "print('##################################################################################')\n",
    "print('Cancer data')\n",
    "print(Cancer)\n",
    "print('##################################################################################')\n",
    "print('Not Cancere data')\n",
    "print(notCancer)\n",
    "print('##################################################################################')\n"
   ]
  },
  {
   "cell_type": "markdown",
   "id": "ee7564a1",
   "metadata": {},
   "source": [
    "# Q 5 ) print shape of Q 4 "
   ]
  },
  {
   "cell_type": "code",
   "execution_count": 6,
   "id": "8ef9281d",
   "metadata": {},
   "outputs": [
    {
     "name": "stdout",
     "output_type": "stream",
     "text": [
      "\n",
      "X.shape =  (303, 14)\n",
      "theta.shape =  (13,)\n",
      "Target.shape =  (303,)\n"
     ]
    }
   ],
   "source": [
    "data.insert(0,\"Ones\",1)\n",
    "\n",
    "colums = data.shape[1]\n",
    "x = data.iloc[:,0:colums-1]\n",
    "target = data.iloc[:,colums-1]\n",
    "\n",
    "# convert to array\n",
    "X = np.array(x.values)\n",
    "Target = np.array(target.values)\n",
    "theta = np.zeros(3)\n",
    "\n",
    "print()\n",
    "print('X.shape = ' , X.shape)\n",
    "print('theta.shape = ' , theta.shape)\n",
    "print('Target.shape = ' , Target.shape)\n",
    "\n"
   ]
  },
  {
   "cell_type": "code",
   "execution_count": null,
   "id": "7426d0f5",
   "metadata": {},
   "outputs": [],
   "source": []
  },
  {
   "cell_type": "code",
   "execution_count": null,
   "id": "579a73c9",
   "metadata": {},
   "outputs": [],
   "source": []
  }
 ],
 "metadata": {
  "kernelspec": {
   "display_name": "Python 3 (ipykernel)",
   "language": "python",
   "name": "python3"
  },
  "language_info": {
   "codemirror_mode": {
    "name": "ipython",
    "version": 3
   },
   "file_extension": ".py",
   "mimetype": "text/x-python",
   "name": "python",
   "nbconvert_exporter": "python",
   "pygments_lexer": "ipython3",
   "version": "3.10.9"
  }
 },
 "nbformat": 4,
 "nbformat_minor": 5
}
